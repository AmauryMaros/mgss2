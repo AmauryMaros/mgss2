{
 "cells": [
  {
   "cell_type": "code",
   "execution_count": 6,
   "metadata": {},
   "outputs": [],
   "source": [
    "import pandas as pd\n",
    "import pickle\n",
    "\n",
    "path2 = \"/Users/amaros/Desktop/mgss2/log_norm.pkl\"\n",
    "\n",
    "with open(path2, 'rb') as file:\n",
    "        metabolomics = pickle.load(file)       \n",
    "\n",
    "mgcsts_samples_df = pd.read_csv(\"../Data/mgCSTs.samples.df.csv\")\n",
    "\n",
    "minclustersize = 10\n",
    "deepsplit = 4\n",
    "\n",
    "df = mgcsts_samples_df[(mgcsts_samples_df['minClusterSize'] == minclustersize) & (mgcsts_samples_df['deepSplit'] == deepsplit)].reset_index(drop = True)"
   ]
  },
  {
   "cell_type": "code",
   "execution_count": 7,
   "metadata": {},
   "outputs": [
    {
     "name": "stderr",
     "output_type": "stream",
     "text": [
      "/var/folders/h5/ld8fm2tx5hx6b_hqkmxxbx_00000gp/T/ipykernel_37850/148187111.py:6: SettingWithCopyWarning: \n",
      "A value is trying to be set on a copy of a slice from a DataFrame.\n",
      "Try using .loc[row_indexer,col_indexer] = value instead\n",
      "\n",
      "See the caveats in the documentation: https://pandas.pydata.org/pandas-docs/stable/user_guide/indexing.html#returning-a-view-versus-a-copy\n",
      "  df1.loc[:,'label'] = \"GroupA\"\n",
      "/var/folders/h5/ld8fm2tx5hx6b_hqkmxxbx_00000gp/T/ipykernel_37850/148187111.py:8: SettingWithCopyWarning: \n",
      "A value is trying to be set on a copy of a slice from a DataFrame.\n",
      "Try using .loc[row_indexer,col_indexer] = value instead\n",
      "\n",
      "See the caveats in the documentation: https://pandas.pydata.org/pandas-docs/stable/user_guide/indexing.html#returning-a-view-versus-a-copy\n",
      "  df2.loc[:,'label'] = \"GroupB\"\n"
     ]
    }
   ],
   "source": [
    "GroupA = [1,2,3,4]\n",
    "GroupB = [5,6,7,8]\n",
    "\n",
    "def data_pca(m1,m2):\n",
    "    df1 = df[df['mgCST'].isin(range(m1[0],m1[1]+1))]\n",
    "    df1.loc[:,'label'] = \"GroupA\"\n",
    "    df2 = df[df['mgCST'].isin(range(m2[0],m2[1]+1))]\n",
    "    df2.loc[:,'label'] = \"GroupB\"\n",
    "    df3 = pd.concat([df1,df2], axis = 0)\n",
    "    data1 = pd.merge(df3, metabolomics, on = \"sampleID\", how = \"inner\")\n",
    "    return data1\n",
    "\n",
    "data1 = data_pca(GroupA, GroupB)"
   ]
  },
  {
   "cell_type": "code",
   "execution_count": 9,
   "metadata": {},
   "outputs": [
    {
     "data": {
      "text/html": [
       "<div>\n",
       "<style scoped>\n",
       "    .dataframe tbody tr th:only-of-type {\n",
       "        vertical-align: middle;\n",
       "    }\n",
       "\n",
       "    .dataframe tbody tr th {\n",
       "        vertical-align: top;\n",
       "    }\n",
       "\n",
       "    .dataframe thead th {\n",
       "        text-align: right;\n",
       "    }\n",
       "</style>\n",
       "<table border=\"1\" class=\"dataframe\">\n",
       "  <thead>\n",
       "    <tr style=\"text-align: right;\">\n",
       "      <th></th>\n",
       "      <th>lactate:phosphate</th>\n",
       "      <th>leucine:phosphate</th>\n",
       "      <th>glutamate:phosphate</th>\n",
       "      <th>isoleucine:phosphate</th>\n",
       "      <th>choline:phosphate</th>\n",
       "      <th>phenylalanine:phosphate</th>\n",
       "      <th>proline:phosphate</th>\n",
       "      <th>creatine:phosphate</th>\n",
       "      <th>alanine:phosphate</th>\n",
       "      <th>arginine:phosphate</th>\n",
       "      <th>...</th>\n",
       "      <th>paroxetine:ibuprofen acyl glucuronide</th>\n",
       "      <th>gabapentin:ibuprofen acyl glucuronide</th>\n",
       "      <th>gabapentin:paroxetine</th>\n",
       "      <th>glucuronide of C12H22O4 (2)*:sulforaphane-N-acetyl-cysteine</th>\n",
       "      <th>X-24736:sulforaphane-N-acetyl-cysteine</th>\n",
       "      <th>X-24736:glucuronide of C12H22O4 (2)*</th>\n",
       "      <th>venlafaxine:O-desmethylvenlafaxine</th>\n",
       "      <th>N-desmethyl tramadol:tramadol</th>\n",
       "      <th>O-desmethyltramadol:tramadol</th>\n",
       "      <th>O-desmethyltramadol:N-desmethyl tramadol</th>\n",
       "    </tr>\n",
       "  </thead>\n",
       "  <tbody>\n",
       "    <tr>\n",
       "      <th>0</th>\n",
       "      <td>-1.045851</td>\n",
       "      <td>-1.801774</td>\n",
       "      <td>-1.944900</td>\n",
       "      <td>-1.978953</td>\n",
       "      <td>-1.19183</td>\n",
       "      <td>-1.928208</td>\n",
       "      <td>-1.697852</td>\n",
       "      <td>-1.780703</td>\n",
       "      <td>-1.921703</td>\n",
       "      <td>-2.383224</td>\n",
       "      <td>...</td>\n",
       "      <td>0.0</td>\n",
       "      <td>0.0</td>\n",
       "      <td>0.0</td>\n",
       "      <td>0.0</td>\n",
       "      <td>0.0</td>\n",
       "      <td>0.0</td>\n",
       "      <td>0.0</td>\n",
       "      <td>0.0</td>\n",
       "      <td>0.0</td>\n",
       "      <td>0.0</td>\n",
       "    </tr>\n",
       "    <tr>\n",
       "      <th>1</th>\n",
       "      <td>2.418946</td>\n",
       "      <td>2.084061</td>\n",
       "      <td>2.447152</td>\n",
       "      <td>1.869037</td>\n",
       "      <td>0.87723</td>\n",
       "      <td>1.784691</td>\n",
       "      <td>1.557010</td>\n",
       "      <td>2.141756</td>\n",
       "      <td>1.295587</td>\n",
       "      <td>2.100969</td>\n",
       "      <td>...</td>\n",
       "      <td>0.0</td>\n",
       "      <td>0.0</td>\n",
       "      <td>0.0</td>\n",
       "      <td>0.0</td>\n",
       "      <td>0.0</td>\n",
       "      <td>0.0</td>\n",
       "      <td>0.0</td>\n",
       "      <td>0.0</td>\n",
       "      <td>0.0</td>\n",
       "      <td>0.0</td>\n",
       "    </tr>\n",
       "  </tbody>\n",
       "</table>\n",
       "<p>2 rows × 250144 columns</p>\n",
       "</div>"
      ],
      "text/plain": [
       "   lactate:phosphate  leucine:phosphate  glutamate:phosphate  \\\n",
       "0          -1.045851          -1.801774            -1.944900   \n",
       "1           2.418946           2.084061             2.447152   \n",
       "\n",
       "   isoleucine:phosphate  choline:phosphate  phenylalanine:phosphate  \\\n",
       "0             -1.978953           -1.19183                -1.928208   \n",
       "1              1.869037            0.87723                 1.784691   \n",
       "\n",
       "   proline:phosphate  creatine:phosphate  alanine:phosphate  \\\n",
       "0          -1.697852           -1.780703          -1.921703   \n",
       "1           1.557010            2.141756           1.295587   \n",
       "\n",
       "   arginine:phosphate  ...  paroxetine:ibuprofen acyl glucuronide  \\\n",
       "0           -2.383224  ...                                    0.0   \n",
       "1            2.100969  ...                                    0.0   \n",
       "\n",
       "   gabapentin:ibuprofen acyl glucuronide  gabapentin:paroxetine  \\\n",
       "0                                    0.0                    0.0   \n",
       "1                                    0.0                    0.0   \n",
       "\n",
       "   glucuronide of C12H22O4 (2)*:sulforaphane-N-acetyl-cysteine  \\\n",
       "0                                                0.0             \n",
       "1                                                0.0             \n",
       "\n",
       "   X-24736:sulforaphane-N-acetyl-cysteine  \\\n",
       "0                                     0.0   \n",
       "1                                     0.0   \n",
       "\n",
       "   X-24736:glucuronide of C12H22O4 (2)*  venlafaxine:O-desmethylvenlafaxine  \\\n",
       "0                                   0.0                                 0.0   \n",
       "1                                   0.0                                 0.0   \n",
       "\n",
       "   N-desmethyl tramadol:tramadol  O-desmethyltramadol:tramadol  \\\n",
       "0                            0.0                           0.0   \n",
       "1                            0.0                           0.0   \n",
       "\n",
       "   O-desmethyltramadol:N-desmethyl tramadol  \n",
       "0                                       0.0  \n",
       "1                                       0.0  \n",
       "\n",
       "[2 rows x 250144 columns]"
      ]
     },
     "execution_count": 9,
     "metadata": {},
     "output_type": "execute_result"
    }
   ],
   "source": [
    "data1 = data1.drop(['dtc','domTaxa','relabund','minClusterSize','deepSplit', 'sampleID', 'mgCST', 'label'], axis = 1)\n",
    "data1.head(2)"
   ]
  },
  {
   "cell_type": "code",
   "execution_count": 10,
   "metadata": {},
   "outputs": [],
   "source": [
    "# PCA\n",
    "\n",
    "from sklearn.decomposition import PCA\n",
    "\n",
    "pca = PCA(n_components=6)\n",
    "principal_components = pca.fit_transform(data1)\n",
    "explained_variance = pca.explained_variance_ratio_\n",
    "components_compo = pca.components_"
   ]
  },
  {
   "cell_type": "code",
   "execution_count": 13,
   "metadata": {},
   "outputs": [
    {
     "data": {
      "text/plain": [
       "<matplotlib.collections.PathCollection at 0x192e5dcd0>"
      ]
     },
     "execution_count": 13,
     "metadata": {},
     "output_type": "execute_result"
    },
    {
     "data": {
      "image/png": "[encoded data removed]",
      "text/plain": [
       "<Figure size 640x480 with 1 Axes>"
      ]
     },
     "metadata": {},
     "output_type": "display_data"
    }
   ],
   "source": [
    "import matplotlib.pyplot as plt\n",
    "\n",
    "pca_df = pd.DataFrame(data = principal_components, columns=['PC1', 'PC2', 'PC3', 'PC4', 'PC5', 'PC6'])\n",
    "\n",
    "plt.scatter(pca_df['PC1'], pca_df['PC2'])"
   ]
  }
 ],
 "metadata": {
  "kernelspec": {
   "display_name": "myenv",
   "language": "python",
   "name": "python3"
  },
  "language_info": {
   "codemirror_mode": {
    "name": "ipython",
    "version": 3
   },
   "file_extension": ".py",
   "mimetype": "text/x-python",
   "name": "python",
   "nbconvert_exporter": "python",
   "pygments_lexer": "ipython3",
   "version": "3.11.4"
  }
 },
 "nbformat": 4,
 "nbformat_minor": 2
}
